{
 "cells": [
  {
   "cell_type": "code",
   "execution_count": 2,
   "id": "ba4e052c",
   "metadata": {},
   "outputs": [],
   "source": [
    "import numpy as np\n",
    "from sklearn import datasets\n",
    "from sklearn.pipeline import Pipeline\n",
    "from sklearn.preprocessing import StandardScaler\n",
    "from sklearn.svm import LinearSVC"
   ]
  },
  {
   "cell_type": "code",
   "execution_count": 10,
   "id": "9a2e2ff8",
   "metadata": {},
   "outputs": [],
   "source": [
    "# 데이터 준비\n",
    "\n",
    "iris = datasets.load_iris()\n",
    "X = iris.data[:,(2,3)]  #iris dataset에서 꽃잎 길이와 너비만 불러온다.\n",
    "y = (iris['target']==2).astype(np.float64)  #Virginica"
   ]
  },
  {
   "cell_type": "markdown",
   "id": "6f686201",
   "metadata": {},
   "source": [
    "### 1. 선형 SVM 분류기"
   ]
  },
  {
   "cell_type": "code",
   "execution_count": 11,
   "id": "e6cc03e8",
   "metadata": {},
   "outputs": [
    {
     "data": {
      "text/plain": [
       "Pipeline(steps=[('scaler', StandardScaler()),\n",
       "                ('linear_scv', LinearSVC(C=1, loss='hinge'))])"
      ]
     },
     "execution_count": 11,
     "metadata": {},
     "output_type": "execute_result"
    }
   ],
   "source": [
    "svm_clf = Pipeline([\n",
    "    ('scaler', StandardScaler()),  #스케일 변경\n",
    "    ('linear_scv',LinearSVC(C=1,loss='hinge')), \n",
    "])\n",
    "\n",
    "svm_clf.fit(X,y) #svm 모델 훈련"
   ]
  },
  {
   "cell_type": "code",
   "execution_count": 12,
   "id": "f2c239bb",
   "metadata": {},
   "outputs": [
    {
     "data": {
      "text/plain": [
       "array([1.])"
      ]
     },
     "execution_count": 12,
     "metadata": {},
     "output_type": "execute_result"
    }
   ],
   "source": [
    "svm_clf.predict([[5.5, 1.7]]) "
   ]
  },
  {
   "cell_type": "markdown",
   "id": "310f3c0b",
   "metadata": {},
   "source": [
    "꽃잎 길이와 너비 값을 넣었을 때, Virginica 품종인지/아닌지 예측할 수 있다. 확률은 나오지 않는다."
   ]
  },
  {
   "cell_type": "markdown",
   "id": "031a3dad",
   "metadata": {},
   "source": [
    "### 2. SVC에서 선형 커널 사용"
   ]
  },
  {
   "cell_type": "code",
   "execution_count": 16,
   "id": "c7238148",
   "metadata": {},
   "outputs": [],
   "source": [
    "from sklearn.svm import SVC"
   ]
  },
  {
   "cell_type": "code",
   "execution_count": 20,
   "id": "4e21a341",
   "metadata": {},
   "outputs": [
    {
     "data": {
      "text/plain": [
       "SVC(C=1, kernel='linear')"
      ]
     },
     "execution_count": 20,
     "metadata": {},
     "output_type": "execute_result"
    }
   ],
   "source": [
    "svc_clf = SVC(kernel='linear', C=1)\n",
    "svc_clf.fit(X,y)"
   ]
  },
  {
   "cell_type": "code",
   "execution_count": 21,
   "id": "58a41ece",
   "metadata": {},
   "outputs": [
    {
     "data": {
      "text/plain": [
       "array([1.])"
      ]
     },
     "execution_count": 21,
     "metadata": {},
     "output_type": "execute_result"
    }
   ],
   "source": [
    "svc_clf.predict([[5.5,1.7]])"
   ]
  },
  {
   "cell_type": "markdown",
   "id": "52f1b946",
   "metadata": {},
   "source": [
    "### 3. SGD 분류기"
   ]
  },
  {
   "cell_type": "code",
   "execution_count": 19,
   "id": "99e0f305",
   "metadata": {},
   "outputs": [],
   "source": [
    "from sklearn.linear_model import SGDClassifier"
   ]
  },
  {
   "cell_type": "code",
   "execution_count": 33,
   "id": "7d47d000",
   "metadata": {},
   "outputs": [],
   "source": [
    "m = len(X)  #m 은 샘플 개수\n",
    "C = 1 #C는 위와 동일하게 1로 설정. 이때의 C는 하이퍼파라미터."
   ]
  },
  {
   "cell_type": "code",
   "execution_count": 35,
   "id": "5bed0b41",
   "metadata": {},
   "outputs": [
    {
     "data": {
      "text/plain": [
       "SGDClassifier(alpha=0.006666666666666667)"
      ]
     },
     "execution_count": 35,
     "metadata": {},
     "output_type": "execute_result"
    }
   ],
   "source": [
    "sgd_clf = SGDClassifier(loss='hinge', alpha=1/(m*C))\n",
    "sgd_clf.fit(X,y)"
   ]
  },
  {
   "cell_type": "code",
   "execution_count": 36,
   "id": "cb1f346b",
   "metadata": {},
   "outputs": [
    {
     "data": {
      "text/plain": [
       "array([1.])"
      ]
     },
     "execution_count": 36,
     "metadata": {},
     "output_type": "execute_result"
    }
   ],
   "source": [
    "sgd_clf.predict([[5.5,1.7]])"
   ]
  },
  {
   "cell_type": "markdown",
   "id": "9ad2d67f",
   "metadata": {},
   "source": []
  }
 ],
 "metadata": {
  "kernelspec": {
   "display_name": "Python 3",
   "language": "python",
   "name": "python3"
  },
  "language_info": {
   "codemirror_mode": {
    "name": "ipython",
    "version": 3
   },
   "file_extension": ".py",
   "mimetype": "text/x-python",
   "name": "python",
   "nbconvert_exporter": "python",
   "pygments_lexer": "ipython3",
   "version": "3.8.8"
  }
 },
 "nbformat": 4,
 "nbformat_minor": 5
}
