{
 "cells": [
  {
   "cell_type": "code",
   "execution_count": 69,
   "id": "f5c2739c",
   "metadata": {},
   "outputs": [
    {
     "data": {
      "text/plain": [
       "<matplotlib.collections.PathCollection at 0x7fc9148ae700>"
      ]
     },
     "execution_count": 69,
     "metadata": {},
     "output_type": "execute_result"
    },
    {
     "data": {
      "image/png": "[encoded data removed]",
      "text/plain": [
       "<Figure size 432x288 with 1 Axes>"
      ]
     },
     "metadata": {
      "needs_background": "light"
     },
     "output_type": "display_data"
    }
   ],
   "source": [
    "import numpy as np\n",
    "import matplotlib\n",
    "import matplotlib.pyplot as plt\n",
    "plt.rcParams['font.family'] = 'AppleGothic'\n",
    "matplotlib.rcParams['axes.unicode_minus'] = False\n",
    "%matplotlib inline\n",
    "\n",
    "#선형처럼 보이는 데이터 생성\n",
    "X = 2*np.random.rand(100,1)\n",
    "y = 4+3*X+np.random.randn(100,1)\n",
    "\n",
    "#데이터 시각화\n",
    "plt.scatter(X,y,c='b')"
   ]
  },
  {
   "cell_type": "markdown",
   "id": "0134eb74",
   "metadata": {},
   "source": [
    "### 1. 선형회귀"
   ]
  },
  {
   "cell_type": "code",
   "execution_count": 156,
   "id": "932fe9c6",
   "metadata": {},
   "outputs": [
    {
     "data": {
      "text/plain": [
       "array([[-3.81639165e-17],\n",
       "       [ 8.57551286e-01]])"
      ]
     },
     "execution_count": 156,
     "metadata": {},
     "output_type": "execute_result"
    }
   ],
   "source": [
    "#모든 샘플에 x0=1을 추가하기\n",
    "X_b = np.c_[np.ones((100,1)),X]\n",
    "#normal equation\n",
    "theta_best = np.linalg.inv(X_b.T.dot(X_b)).dot(X_b.T).dot(y)\n",
    "theta_best"
   ]
  },
  {
   "cell_type": "code",
   "execution_count": 22,
   "id": "7d592777",
   "metadata": {},
   "outputs": [
    {
     "data": {
      "text/plain": [
       "array([[ 4.06293519],\n",
       "       [10.01302942]])"
      ]
     },
     "execution_count": 22,
     "metadata": {},
     "output_type": "execute_result"
    }
   ],
   "source": [
    "X_new = np.array([[0],[2]])\n",
    "X_new_b = np.c_[np.ones((2,1)),X_new] \n",
    "# 모든 샘플에 x0 = 1을 추가\n",
    "y_predict = X_new_b.dot(theta_best)\n",
    "y_predict #특정 샘플의 예측값 출력"
   ]
  },
  {
   "cell_type": "code",
   "execution_count": 31,
   "id": "0669c605",
   "metadata": {},
   "outputs": [
    {
     "data": {
      "image/png": "[encoded data removed]",
      "text/plain": [
       "<Figure size 432x288 with 1 Axes>"
      ]
     },
     "metadata": {
      "needs_background": "light"
     },
     "output_type": "display_data"
    }
   ],
   "source": [
    "plt.plot(X_new, y_predict, 'r-', label='예측')\n",
    "plt.plot(X,y,'b.', label='datapoint')\n",
    "plt.axis([0,2,0,15])\n",
    "plt.legend()\n",
    "plt.show()"
   ]
  },
  {
   "cell_type": "code",
   "execution_count": 32,
   "id": "1803edda",
   "metadata": {},
   "outputs": [
    {
     "data": {
      "text/plain": [
       "LinearRegression()"
      ]
     },
     "execution_count": 32,
     "metadata": {},
     "output_type": "execute_result"
    }
   ],
   "source": [
    "#사이킷런에서 직접 선형회귀\n",
    "from sklearn.linear_model import LinearRegression\n",
    "lin_reg = LinearRegression()\n",
    "lin_reg.fit(X,y)"
   ]
  },
  {
   "cell_type": "code",
   "execution_count": 33,
   "id": "fb1caac8",
   "metadata": {},
   "outputs": [
    {
     "data": {
      "text/plain": [
       "(array([4.06293519]), array([[2.97504711]]))"
      ]
     },
     "execution_count": 33,
     "metadata": {},
     "output_type": "execute_result"
    }
   ],
   "source": [
    "lin_reg.intercept_, lin_reg.coef_ "
   ]
  },
  {
   "cell_type": "code",
   "execution_count": 34,
   "id": "7f910d8a",
   "metadata": {},
   "outputs": [
    {
     "data": {
      "text/plain": [
       "array([[ 4.06293519],\n",
       "       [10.01302942]])"
      ]
     },
     "execution_count": 34,
     "metadata": {},
     "output_type": "execute_result"
    }
   ],
   "source": [
    "lin_reg.predict(X_new)"
   ]
  },
  {
   "cell_type": "code",
   "execution_count": 35,
   "id": "1da23515",
   "metadata": {},
   "outputs": [
    {
     "data": {
      "text/plain": [
       "array([[4.06293519],\n",
       "       [2.97504711]])"
      ]
     },
     "execution_count": 35,
     "metadata": {},
     "output_type": "execute_result"
    }
   ],
   "source": [
    "theta_best_svd, residuals, rank, s = np.linalg.lstsq(X_b, y, rcond=1e-6)\n",
    "theta_best_svd"
   ]
  },
  {
   "cell_type": "code",
   "execution_count": 36,
   "id": "8d6a52d8",
   "metadata": {},
   "outputs": [
    {
     "data": {
      "text/plain": [
       "array([96.25724287])"
      ]
     },
     "execution_count": 36,
     "metadata": {},
     "output_type": "execute_result"
    }
   ],
   "source": [
    "residuals"
   ]
  },
  {
   "cell_type": "code",
   "execution_count": 37,
   "id": "73e8f184",
   "metadata": {},
   "outputs": [
    {
     "data": {
      "text/plain": [
       "array([15.02733791,  4.07125768])"
      ]
     },
     "execution_count": 37,
     "metadata": {},
     "output_type": "execute_result"
    }
   ],
   "source": [
    "s"
   ]
  },
  {
   "cell_type": "code",
   "execution_count": 38,
   "id": "9b06c127",
   "metadata": {},
   "outputs": [
    {
     "data": {
      "text/plain": [
       "2"
      ]
     },
     "execution_count": 38,
     "metadata": {},
     "output_type": "execute_result"
    }
   ],
   "source": [
    "rank"
   ]
  },
  {
   "cell_type": "markdown",
   "id": "0ec92a5e",
   "metadata": {},
   "source": [
    "### 2. 경사 하강법"
   ]
  },
  {
   "cell_type": "code",
   "execution_count": 155,
   "id": "b1538396",
   "metadata": {},
   "outputs": [],
   "source": [
    "eta = 0.1 #learning rate\n",
    "n_iterations = 1000\n",
    "m = 100\n",
    "\n",
    "theta = np.random.randn(2,1) #무작위 초기화\n",
    "\n",
    "for iteration in range(n_iterations):\n",
    "    gradients = 2/m * X_b.T.dot(X_b.dot(theta)-y)\n",
    "    theta = theta - eta*gradients\n"
   ]
  },
  {
   "cell_type": "code",
   "execution_count": 40,
   "id": "20a9e184",
   "metadata": {},
   "outputs": [
    {
     "data": {
      "text/plain": [
       "array([[4.06293519],\n",
       "       [2.97504711]])"
      ]
     },
     "execution_count": 40,
     "metadata": {},
     "output_type": "execute_result"
    }
   ],
   "source": [
    "theta"
   ]
  },
  {
   "cell_type": "code",
   "execution_count": 157,
   "id": "d1789536",
   "metadata": {},
   "outputs": [
    {
     "data": {
      "text/plain": [
       "Text(0, 0.5, 'y')"
      ]
     },
     "execution_count": 157,
     "metadata": {},
     "output_type": "execute_result"
    },
    {
     "data": {
      "image/png": "[encoded data removed]",
      "text/plain": [
       "<Figure size 432x288 with 1 Axes>"
      ]
     },
     "metadata": {
      "needs_background": "light"
     },
     "output_type": "display_data"
    }
   ],
   "source": [
    "from sklearn.preprocessing import StandardScaler\n",
    "scaler = StandardScaler()\n",
    "\n",
    "X = scaler.fit_transform(X) #특성 스케일링\n",
    "y = scaler.fit_transform(y)\n",
    "\n",
    "plt.scatter(X,y,c='g')\n",
    "plt.title('X와 y의 산점도')\n",
    "plt.xlabel('X')\n",
    "plt.ylabel('y')"
   ]
  },
  {
   "cell_type": "code",
   "execution_count": 158,
   "id": "54ce45bc",
   "metadata": {},
   "outputs": [],
   "source": [
    "#데이터와 회귀선을 같이 그리는 함수\n",
    "def plot_prediction(pred,y):\n",
    "    plt.figure(figsize=(3,2))\n",
    "    plt.plot(X,y,'o',c='g',alpha=0.5)\n",
    "    plt.plot(X,pred,c='r')\n",
    "    plt.title('선형 회귀선')\n",
    "    plt.show()"
   ]
  },
  {
   "cell_type": "code",
   "execution_count": 159,
   "id": "60dcd91b",
   "metadata": {
    "scrolled": false
   },
   "outputs": [
    {
     "data": {
      "image/png": "[encoded data removed]",
      "text/plain": [
       "<Figure size 216x144 with 1 Axes>"
      ]
     },
     "metadata": {
      "needs_background": "light"
     },
     "output_type": "display_data"
    },
    {
     "data": {
      "image/png": "[encoded data removed]",
      "text/plain": [
       "<Figure size 216x144 with 1 Axes>"
      ]
     },
     "metadata": {
      "needs_background": "light"
     },
     "output_type": "display_data"
    }
   ],
   "source": [
    "#경사하강법 구현\n",
    "W = np.random.uniform(-1,1) #가중치 벡터 임의로 설정\n",
    "b = np.random.uniform(-1,1) #편향\n",
    "                \n",
    "learning_rate = 0.7\n",
    "\n",
    "for epoch in range(100):\n",
    "    y_pred = W * X + b \n",
    "    error = np.abs(y_pred - y).mean()\n",
    "    if error<0.001:\n",
    "        break\n",
    "    #gradient descent\n",
    "    w_grad = learning_rate * ((y_pred-y)*X).mean()\n",
    "    b_grad = learning_rate * (y_pred - y).mean()\n",
    "    \n",
    "    #가중치 벡터와 편향 갱신\n",
    "    W = W-w_grad\n",
    "    b = b-b_grad\n",
    "    \n",
    "    if epoch%5 ==0:\n",
    "        y_pred = W * X + b\n",
    "    if epoch in (0,99):\n",
    "        plot_prediction(y_pred,y)"
   ]
  },
  {
   "cell_type": "code",
   "execution_count": 166,
   "id": "59243874",
   "metadata": {},
   "outputs": [
    {
     "data": {
      "image/png": "[encoded data removed]",
      "text/plain": [
       "<Figure size 216x144 with 1 Axes>"
      ]
     },
     "metadata": {
      "needs_background": "light"
     },
     "output_type": "display_data"
    }
   ],
   "source": [
    "#itertaion이 너무 작을경우\n",
    "W = np.random.uniform(-1,1) #가중치 벡터 임의로 설정\n",
    "b = np.random.uniform(-1,1) #편향\n",
    "                \n",
    "learning_rate = 0.7\n",
    "\n",
    "for epoch in range(10):\n",
    "    y_pred = W * X + b \n",
    "    error = np.abs(y_pred - y).mean()\n",
    "    if error<0.001:\n",
    "        break\n",
    "    #gradient descent\n",
    "    w_grad = learning_rate * ((y_pred-y)*X).mean()\n",
    "    b_grad = learning_rate * (y_pred - y).mean()\n",
    "    \n",
    "    #가중치 벡터와 편향 갱신\n",
    "    W = W-w_grad\n",
    "    b = b-b_grad\n",
    "    if epoch == 9:\n",
    "        y_pred = W * X + b\n",
    "        plot_prediction(y_pred,y)"
   ]
  },
  {
   "cell_type": "markdown",
   "id": "991b8006",
   "metadata": {},
   "source": [
    "### SGD Classifier"
   ]
  },
  {
   "cell_type": "code",
   "execution_count": 181,
   "id": "1796bd06",
   "metadata": {},
   "outputs": [],
   "source": [
    "n_epochs = 50\n",
    "t0, t1 = 5, 50 #learning schedule hyperparameter\n",
    "\n",
    "def learning_schedule(t):\n",
    "    return t0/(t+t1) #t 값이 커질수록 learning rate가 작아진다\n",
    "\n",
    "theta = np.random.randn(2,1) #무작위 초기화\n",
    "\n",
    "theta_path_sgd = []\n",
    "m=len(X_b)\n",
    "np.random.seed(42)\n"
   ]
  },
  {
   "cell_type": "code",
   "execution_count": 185,
   "id": "e8ddbb9e",
   "metadata": {},
   "outputs": [
    {
     "data": {
      "image/png": "[encoded data removed]",
      "text/plain": [
       "<Figure size 432x288 with 1 Axes>"
      ]
     },
     "metadata": {
      "needs_background": "light"
     },
     "output_type": "display_data"
    }
   ],
   "source": [
    "for epoch in range(n_epochs):\n",
    "    for i in range(m):\n",
    "        if epoch==0 and i<20:\n",
    "            y_predict = X_b.dot(theta)\n",
    "            style='b-' if i>0 else 'r-'\n",
    "            plt.plot(X, y_predict, style)\n",
    "        random_index = np.random.randint(m) #랜덤\n",
    "        xi = X_b[random_index:random_index+1]\n",
    "        yi = y[random_index:random_index+1]\n",
    "        gradients=2*xi.T.dot(xi.dot(theta)-yi)\n",
    "        eta = learning_schedule(epoch*m + i)\n",
    "        theta = theta - eta*gradients\n",
    "        theta_path_sgd.append(theta)\n",
    "        \n",
    "plt.plot(X,y,'g.')\n",
    "plt.xlabel('$x_1$', fontsize=20)\n",
    "plt.ylabel('$y$', rotation=0, fontsize=20)\n",
    "plt.show()\n",
    "    \n"
   ]
  }
 ],
 "metadata": {
  "kernelspec": {
   "display_name": "Python 3",
   "language": "python",
   "name": "python3"
  },
  "language_info": {
   "codemirror_mode": {
    "name": "ipython",
    "version": 3
   },
   "file_extension": ".py",
   "mimetype": "text/x-python",
   "name": "python",
   "nbconvert_exporter": "python",
   "pygments_lexer": "ipython3",
   "version": "3.8.8"
  }
 },
 "nbformat": 4,
 "nbformat_minor": 5
}
